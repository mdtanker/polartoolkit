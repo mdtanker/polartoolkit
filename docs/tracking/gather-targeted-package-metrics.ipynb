{
 "cells": [
  {
   "cell_type": "markdown",
   "id": "8f88d59f-3c0d-4d33-908e-0381578065dd",
   "metadata": {},
   "source": [
    "# Gather Package Download Metrics\n",
    "\n",
    "## Setup\n",
    "\n",
    "Use of this notebook involves setup via https://github.com/ofek/pypinfo#installation. An environment variable is expected for pypinfo to work properly. For example: `export GOOGLE_APPLICATION_CREDENTIALS=/path/to/credentials.json`"
   ]
  },
  {
   "cell_type": "code",
   "execution_count": null,
   "id": "fef169d9-a9ce-4b80-af16-92b02375e24a",
   "metadata": {
    "tags": []
   },
   "outputs": [],
   "source": [
    "import json\n",
    "import subprocess\n",
    "\n",
    "import pandas as pd"
   ]
  },
  {
   "cell_type": "code",
   "execution_count": null,
   "id": "5f6176ba-70a7-40c9-afe9-fa14767dfc02",
   "metadata": {
    "tags": []
   },
   "outputs": [],
   "source": [
    "loi_target_projects = [\n",
    "    # \"antarctic_plots\",\n",
    "    \"polartoolkit\",\n",
    "]\n",
    "loi_target_projects"
   ]
  },
  {
   "cell_type": "code",
   "execution_count": null,
   "id": "fe7448a3-190d-44f4-bfce-5a1a862a4a0f",
   "metadata": {
    "tags": []
   },
   "outputs": [],
   "source": [
    "df = pd.DataFrame(data={\"project\": [\"polartoolkit\"], \"date\": [\"2021-01-01\"]})\n",
    "df[\"date\"] = pd.to_datetime(df.date)\n",
    "df"
   ]
  },
  {
   "cell_type": "code",
   "execution_count": null,
   "id": "edd46462",
   "metadata": {},
   "outputs": [],
   "source": [
    "# project = \"polartoolkit\"\n",
    "project = \"antarctic-plots\"\n",
    "start_date = \"2021-01-01\""
   ]
  },
  {
   "cell_type": "code",
   "execution_count": null,
   "id": "5c726c40",
   "metadata": {},
   "outputs": [],
   "source": [
    "# gather total downloads\n",
    "total_downloads = json.loads(\n",
    "    subprocess.run(\n",
    "        [\n",
    "            \"pypinfo\",\n",
    "            \"--json\",\n",
    "            \"--start-date\",\n",
    "            start_date,\n",
    "            \"--limit\",\n",
    "            \"1000\",\n",
    "            project,\n",
    "        ],\n",
    "        capture_output=True,\n",
    "        check=True,\n",
    "    ).stdout\n",
    ")[\"rows\"][0][\"download_count\"]\n",
    "\n",
    "total_downloads"
   ]
  },
  {
   "cell_type": "code",
   "execution_count": null,
   "id": "9dfba3aa",
   "metadata": {},
   "outputs": [],
   "source": [
    "# gather downloads by year and month, ordered by month\n",
    "output = json.loads(\n",
    "    subprocess.run(\n",
    "        [\n",
    "            \"pypinfo\",\n",
    "            \"--json\",\n",
    "            \"--start-date\",\n",
    "            start_date,\n",
    "            \"--limit\",\n",
    "            \"1000\",\n",
    "            \"--order\",\n",
    "            \"download_month\",\n",
    "            project,\n",
    "            \"month\",\n",
    "        ],\n",
    "        capture_output=True,\n",
    "        check=True,\n",
    "    ).stdout\n",
    ")\n",
    "\n",
    "monthly_downloads = pd.DataFrame(output[\"rows\"])\n",
    "monthly_downloads"
   ]
  },
  {
   "cell_type": "code",
   "execution_count": null,
   "id": "c3a3452b",
   "metadata": {},
   "outputs": [],
   "source": [
    "# gather downloads by country\n",
    "output = json.loads(\n",
    "    subprocess.run(\n",
    "        [\n",
    "            \"pypinfo\",\n",
    "            \"--json\",\n",
    "            \"--start-date\",\n",
    "            start_date,\n",
    "            \"--limit\",\n",
    "            \"1000\",\n",
    "            project,\n",
    "            \"country\",\n",
    "        ],\n",
    "        capture_output=True,\n",
    "        check=True,\n",
    "    ).stdout\n",
    ")\n",
    "\n",
    "country_downloads = pd.DataFrame(output[\"rows\"])\n",
    "country_downloads"
   ]
  }
 ],
 "metadata": {
  "kernelspec": {
   "display_name": "Python 3 (ipykernel)",
   "language": "python",
   "name": "python3"
  },
  "language_info": {
   "codemirror_mode": {
    "name": "ipython",
    "version": 3
   },
   "file_extension": ".py",
   "mimetype": "text/x-python",
   "name": "python",
   "nbconvert_exporter": "python",
   "pygments_lexer": "ipython3",
   "version": "3.11.0"
  }
 },
 "nbformat": 4,
 "nbformat_minor": 5
}
