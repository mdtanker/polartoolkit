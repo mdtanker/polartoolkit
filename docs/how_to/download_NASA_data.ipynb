{
 "cells": [
  {
   "cell_type": "markdown",
   "metadata": {},
   "source": [
    "# Download NASA datasets\n",
    "To access data from NASA, you will need an EarthData login (register for free [here](https://urs.earthdata.nasa.gov/profile)).\n",
    "There are 3 ways to supply this login info:  \n",
    "1) you will be prompted to enter in manually when you call a function requiring it.  \n",
    "2) add the username and password as temporary environment variable which only persist through the current python session\n",
    "```python\n",
    "import os\n",
    "os.environ[\"EARTHDATA_PASSWORD\"] = \"<<your password>>\"\n",
    "os.environ[\"EARTHDATA_USERNAME\"] = \"<<your username>>\"\n",
    "```  \n",
    "3) add the username and password as system environment variable which will always be available. This is done different on each operating system. For Unix, add the following to the end of your `.bashrc` file:\n",
    "```\n",
    "export EARTHDATA_PASSWORD=<<your password>>\n",
    "export EARTHDATA_USERNAME=<<your username>>\n",
    "```"
   ]
  },
  {
   "cell_type": "code",
   "execution_count": 1,
   "metadata": {
    "execution": {
     "iopub.execute_input": "2025-07-22T15:55:59.992887Z",
     "iopub.status.busy": "2025-07-22T15:55:59.992336Z",
     "iopub.status.idle": "2025-07-22T15:56:04.684925Z",
     "shell.execute_reply": "2025-07-22T15:56:04.683906Z"
    }
   },
   "outputs": [],
   "source": [
    "from polartoolkit import fetch"
   ]
  },
  {
   "cell_type": "code",
   "execution_count": 2,
   "metadata": {
    "execution": {
     "iopub.execute_input": "2025-07-22T15:56:04.687745Z",
     "iopub.status.busy": "2025-07-22T15:56:04.687211Z",
     "iopub.status.idle": "2025-07-22T15:56:04.695761Z",
     "shell.execute_reply": "2025-07-22T15:56:04.694504Z"
    }
   },
   "outputs": [
    {
     "data": {
      "text/plain": [
       "'/home/sungw937/.cache/pooch/polartoolkit/shapefiles/measures/GroundingLine_Antarctica_v02.shp'"
      ]
     },
     "execution_count": 2,
     "metadata": {},
     "output_type": "execute_result"
    }
   ],
   "source": [
    "fetch.groundingline(\"measures-v2\")"
   ]
  }
 ],
 "metadata": {
  "kernelspec": {
   "display_name": "polartoolkit",
   "language": "python",
   "name": "python3"
  },
  "language_info": {
   "codemirror_mode": {
    "name": "ipython",
    "version": 3
   },
   "file_extension": ".py",
   "mimetype": "text/x-python",
   "name": "python",
   "nbconvert_exporter": "python",
   "pygments_lexer": "ipython3",
   "version": "3.12.11"
  }
 },
 "nbformat": 4,
 "nbformat_minor": 2
}
