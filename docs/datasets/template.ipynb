{
 "cells": [
  {
   "cell_type": "markdown",
   "metadata": {},
   "source": [
    "# Dataset Name\n",
    "**Description:**  \n",
    "\n",
    "**Dataset:** \n",
    "\n",
    "**Associated paper:**"
   ]
  },
  {
   "cell_type": "code",
   "execution_count": null,
   "metadata": {},
   "outputs": [],
   "source": [
    "%%capture\n",
    "%load_ext autoreload\n",
    "%autoreload 2\n",
    "\n",
    "from polartoolkit import fetch, maps, utils"
   ]
  },
  {
   "cell_type": "code",
   "execution_count": null,
   "metadata": {},
   "outputs": [],
   "source": [
    "data = fetch.bedmap2(\n",
    "    layer=\"thickness\",\n",
    "    # available options\n",
    "    # reference (\"eigen-6c4\" or \"ellipsoid\")\n",
    "    # region,\n",
    "    # spacing,\n",
    "    # registration (\"g\" for gridline or \"p\" for pixel),\n",
    ")\n",
    "data"
   ]
  },
  {
   "cell_type": "code",
   "execution_count": null,
   "metadata": {},
   "outputs": [],
   "source": [
    "_ = utils.get_grid_info(data, print_info=True)"
   ]
  },
  {
   "cell_type": "code",
   "execution_count": null,
   "metadata": {},
   "outputs": [],
   "source": [
    "fig = maps.plot_grd(\n",
    "    data,\n",
    "    title=\"Bedmap2 Ice Thickness\",\n",
    "    coast=True,\n",
    "    cbar_label=\"meters\",\n",
    "    hist=True,\n",
    "    robust=True,\n",
    ")\n",
    "\n",
    "fig.show(dpi=200)"
   ]
  },
  {
   "cell_type": "code",
   "execution_count": null,
   "metadata": {},
   "outputs": [],
   "source": []
  }
 ],
 "metadata": {
  "kernelspec": {
   "display_name": "polartoolkit",
   "language": "python",
   "name": "python3"
  },
  "language_info": {
   "codemirror_mode": {
    "name": "ipython",
    "version": 3
   },
   "file_extension": ".py",
   "mimetype": "text/x-python",
   "name": "python",
   "nbconvert_exporter": "python",
   "pygments_lexer": "ipython3",
   "version": "3.12.3"
  }
 },
 "nbformat": 4,
 "nbformat_minor": 2
}
