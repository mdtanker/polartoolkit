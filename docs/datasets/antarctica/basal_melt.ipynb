{
 "cells": [
  {
   "cell_type": "markdown",
   "metadata": {},
   "source": [
    "# Basal Melt\n",
    "\n",
    "**Description:**  Antarctic ice shelt basal melt rates for 1994-2018 from satellite radar altimetry data.\n",
    "\n",
    "**Datasets:** \n",
    "\n",
    "N.A.\n",
    "\n",
    "**Associated papers:** \n",
    "\n",
    "Adusumilli, Susheel, Helen Amanda Fricker, Brooke Medley, Laurie Padman, and Matthew R. Siegfried. “Interannual Variations in Meltwater Input to the Southern Ocean from Antarctic Ice Shelves.” Nature Geoscience 13, no. 9 (September 2020): 616–20. https://doi.org/10.1038/s41561-020-0616-z.\n"
   ]
  },
  {
   "cell_type": "code",
   "execution_count": 4,
   "metadata": {
    "execution": {
     "iopub.execute_input": "2025-04-23T10:42:04.713859Z",
     "iopub.status.busy": "2025-04-23T10:42:04.713074Z",
     "iopub.status.idle": "2025-04-23T10:42:34.294482Z",
     "shell.execute_reply": "2025-04-23T10:42:34.293176Z"
    }
   },
   "outputs": [],
   "source": [
    "%%capture\n",
    "%load_ext autoreload\n",
    "%autoreload 2\n",
    "\n",
    "\n",
    "from polartoolkit import fetch, maps, regions"
   ]
  },
  {
   "cell_type": "code",
   "execution_count": 6,
   "metadata": {
    "execution": {
     "iopub.execute_input": "2025-04-23T10:42:34.298217Z",
     "iopub.status.busy": "2025-04-23T10:42:34.297436Z",
     "iopub.status.idle": "2025-04-23T10:47:50.881733Z",
     "shell.execute_reply": "2025-04-23T10:47:50.880685Z"
    }
   },
   "outputs": [
    {
     "ename": "ValueError",
     "evalue": "Unfortunately, this dataset is not available for download at the moment, follow here for details: https://github.com/fatiando/pooch/issues/470",
     "output_type": "error",
     "traceback": [
      "\u001b[31m---------------------------------------------------------------------------\u001b[39m",
      "\u001b[31mValueError\u001b[39m                                Traceback (most recent call last)",
      "\u001b[36mCell\u001b[39m\u001b[36m \u001b[39m\u001b[32mIn[6]\u001b[39m\u001b[32m, line 9\u001b[39m\n\u001b[32m      7\u001b[39m grids = []\n\u001b[32m      8\u001b[39m \u001b[38;5;28;01mfor\u001b[39;00m name \u001b[38;5;129;01min\u001b[39;00m version_names:\n\u001b[32m----> \u001b[39m\u001b[32m9\u001b[39m     data = \u001b[43mfetch\u001b[49m\u001b[43m.\u001b[49m\u001b[43mbasal_melt\u001b[49m\u001b[43m(\u001b[49m\n\u001b[32m     10\u001b[39m \u001b[43m        \u001b[49m\u001b[43mversion\u001b[49m\u001b[43m=\u001b[49m\u001b[43mname\u001b[49m\u001b[43m,\u001b[49m\n\u001b[32m     11\u001b[39m \u001b[43m    \u001b[49m\u001b[43m)\u001b[49m\n\u001b[32m     12\u001b[39m     grids.append(data)\n",
      "\u001b[36mFile \u001b[39m\u001b[32m<string>:50\u001b[39m, in \u001b[36mbasal_melt\u001b[39m\u001b[34m(version, variable, region, spacing, registration, **kwargs)\u001b[39m\n",
      "\u001b[36mFile \u001b[39m\u001b[32m~/miniforge3/envs/polartoolkit/lib/python3.12/site-packages/pooch/core.py:251\u001b[39m, in \u001b[36mretrieve\u001b[39m\u001b[34m(url, known_hash, fname, path, processor, downloader, progressbar)\u001b[39m\n\u001b[32m    242\u001b[39m         get_logger().info(\n\u001b[32m    243\u001b[39m             \u001b[33m\"\u001b[39m\u001b[33mSHA256 hash of downloaded file: \u001b[39m\u001b[38;5;132;01m%s\u001b[39;00m\u001b[38;5;130;01m\\n\u001b[39;00m\u001b[33m\"\u001b[39m\n\u001b[32m    244\u001b[39m             \u001b[33m\"\u001b[39m\u001b[33mUse this value as the \u001b[39m\u001b[33m'\u001b[39m\u001b[33mknown_hash\u001b[39m\u001b[33m'\u001b[39m\u001b[33m argument of \u001b[39m\u001b[33m'\u001b[39m\u001b[33mpooch.retrieve\u001b[39m\u001b[33m'\u001b[39m\u001b[33m\"\u001b[39m\n\u001b[32m   (...)\u001b[39m\u001b[32m    247\u001b[39m             file_hash(\u001b[38;5;28mstr\u001b[39m(full_path)),\n\u001b[32m    248\u001b[39m         )\n\u001b[32m    250\u001b[39m \u001b[38;5;28;01mif\u001b[39;00m processor \u001b[38;5;129;01mis\u001b[39;00m \u001b[38;5;129;01mnot\u001b[39;00m \u001b[38;5;28;01mNone\u001b[39;00m:\n\u001b[32m--> \u001b[39m\u001b[32m251\u001b[39m     \u001b[38;5;28;01mreturn\u001b[39;00m \u001b[43mprocessor\u001b[49m\u001b[43m(\u001b[49m\u001b[38;5;28;43mstr\u001b[39;49m\u001b[43m(\u001b[49m\u001b[43mfull_path\u001b[49m\u001b[43m)\u001b[49m\u001b[43m,\u001b[49m\u001b[43m \u001b[49m\u001b[43maction\u001b[49m\u001b[43m,\u001b[49m\u001b[43m \u001b[49m\u001b[38;5;28;43;01mNone\u001b[39;49;00m\u001b[43m)\u001b[49m\n\u001b[32m    253\u001b[39m \u001b[38;5;28;01mreturn\u001b[39;00m \u001b[38;5;28mstr\u001b[39m(full_path)\n",
      "\u001b[36mFile \u001b[39m\u001b[32m<string>:41\u001b[39m, in \u001b[36mpreprocessing\u001b[39m\u001b[34m(fname, action, _pooch2)\u001b[39m\n",
      "\u001b[31mValueError\u001b[39m: Unfortunately, this dataset is not available for download at the moment, follow here for details: https://github.com/fatiando/pooch/issues/470"
     ]
    }
   ],
   "source": [
    "version_names = [\n",
    "    \"w_b\",  # basal melt rate\n",
    "    \"w_b_interp\",  # interpolated basal melt rate\n",
    "    \"w_b_uncert\",  # uncertainty of basal melt rate\n",
    "]\n",
    "\n",
    "grids = []\n",
    "for name in version_names:\n",
    "    data = fetch.basal_melt(\n",
    "        version=name,\n",
    "    )\n",
    "    grids.append(data)"
   ]
  },
  {
   "cell_type": "code",
   "execution_count": null,
   "metadata": {
    "execution": {
     "iopub.execute_input": "2025-04-23T10:47:50.886302Z",
     "iopub.status.busy": "2025-04-23T10:47:50.885311Z",
     "iopub.status.idle": "2025-04-23T10:49:45.818275Z",
     "shell.execute_reply": "2025-04-23T10:49:45.816958Z"
    }
   },
   "outputs": [],
   "source": [
    "fig = maps.subplots(\n",
    "    grids,\n",
    "    region=regions.antarctica,\n",
    "    fig_title=\"Basal Melt\",\n",
    "    titles=version_names,\n",
    "    cbar_labels=[\"meters / year\", \"meters / year\", \"meters\"],\n",
    "    coast=True,\n",
    "    coast_pen=\".4p,black\",\n",
    "    cmaps=[\"balance+h0\", \"balance+h0\", \"viridis\"],\n",
    "    hemisphere=\"south\",\n",
    "    robust=True,\n",
    "    hist=True,\n",
    ")\n",
    "fig.show(dpi=200)"
   ]
  },
  {
   "cell_type": "code",
   "execution_count": null,
   "metadata": {},
   "outputs": [],
   "source": []
  }
 ],
 "metadata": {
  "kernelspec": {
   "display_name": "polartoolkit",
   "language": "python",
   "name": "python3"
  },
  "language_info": {
   "codemirror_mode": {
    "name": "ipython",
    "version": 3
   },
   "file_extension": ".py",
   "mimetype": "text/x-python",
   "name": "python",
   "nbconvert_exporter": "python",
   "pygments_lexer": "ipython3",
   "version": "3.12.10"
  }
 },
 "nbformat": 4,
 "nbformat_minor": 2
}
