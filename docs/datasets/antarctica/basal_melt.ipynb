{
 "cells": [
  {
   "cell_type": "markdown",
   "metadata": {},
   "source": [
    "# Basal Melt\n",
    "\n",
    "**Description:**  Antarctic ice shelt basal melt rates for 1994-2018 from satellite radar altimetry data.\n",
    "\n",
    "**Datasets:** \n",
    "\n",
    "N.A.\n",
    "\n",
    "**Associated papers:** \n",
    "\n",
    "Adusumilli, Susheel, Helen Amanda Fricker, Brooke Medley, Laurie Padman, and Matthew R. Siegfried. “Interannual Variations in Meltwater Input to the Southern Ocean from Antarctic Ice Shelves.” Nature Geoscience 13, no. 9 (September 2020): 616–20. https://doi.org/10.1038/s41561-020-0616-z.\n"
   ]
  },
  {
   "cell_type": "code",
   "execution_count": null,
   "metadata": {
    "execution": {
     "iopub.execute_input": "2025-07-22T14:45:53.162173Z",
     "iopub.status.busy": "2025-07-22T14:45:53.161450Z",
     "iopub.status.idle": "2025-07-22T14:45:58.501396Z",
     "shell.execute_reply": "2025-07-22T14:45:58.500087Z"
    }
   },
   "outputs": [],
   "source": [
    "%%capture\n",
    "%load_ext autoreload\n",
    "%autoreload 2\n",
    "\n",
    "\n",
    "from polartoolkit import fetch, maps, regions"
   ]
  },
  {
   "cell_type": "code",
   "execution_count": null,
   "metadata": {
    "execution": {
     "iopub.execute_input": "2025-07-22T14:45:58.506172Z",
     "iopub.status.busy": "2025-07-22T14:45:58.505771Z",
     "iopub.status.idle": "2025-07-22T14:45:59.256398Z",
     "shell.execute_reply": "2025-07-22T14:45:59.254186Z"
    }
   },
   "outputs": [],
   "source": [
    "version_names = [\n",
    "    \"w_b\",  # basal melt rate\n",
    "    \"w_b_interp\",  # interpolated basal melt rate\n",
    "    \"w_b_uncert\",  # uncertainty of basal melt rate\n",
    "]\n",
    "\n",
    "grids = []\n",
    "for name in version_names:\n",
    "    data = fetch.basal_melt(\n",
    "        version=name,\n",
    "    )\n",
    "    grids.append(data)"
   ]
  },
  {
   "cell_type": "code",
   "execution_count": null,
   "metadata": {
    "execution": {
     "iopub.execute_input": "2025-07-22T14:45:59.260336Z",
     "iopub.status.busy": "2025-07-22T14:45:59.259746Z",
     "iopub.status.idle": "2025-07-22T14:45:59.432900Z",
     "shell.execute_reply": "2025-07-22T14:45:59.431734Z"
    }
   },
   "outputs": [],
   "source": [
    "fig = maps.subplots(\n",
    "    grids,\n",
    "    region=regions.antarctica,\n",
    "    fig_title=\"Basal Melt\",\n",
    "    titles=version_names,\n",
    "    cbar_labels=[\"meters / year\", \"meters / year\", \"meters\"],\n",
    "    coast=True,\n",
    "    coast_pen=\".4p,black\",\n",
    "    cmaps=[\"balance+h0\", \"balance+h0\", \"viridis\"],\n",
    "    hemisphere=\"south\",\n",
    "    robust=True,\n",
    "    hist=True,\n",
    ")\n",
    "fig.show(dpi=200)"
   ]
  },
  {
   "cell_type": "code",
   "execution_count": null,
   "metadata": {},
   "outputs": [],
   "source": []
  }
 ],
 "metadata": {
  "kernelspec": {
   "display_name": "polartoolkit",
   "language": "python",
   "name": "python3"
  },
  "language_info": {
   "codemirror_mode": {
    "name": "ipython",
    "version": 3
   },
   "file_extension": ".py",
   "mimetype": "text/x-python",
   "name": "python",
   "nbconvert_exporter": "python",
   "pygments_lexer": "ipython3",
   "version": "3.12.11"
  }
 },
 "nbformat": 4,
 "nbformat_minor": 2
}
